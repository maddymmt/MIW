{
 "nbformat": 4,
 "nbformat_minor": 0,
 "metadata": {
  "colab": {
   "provenance": []
  },
  "kernelspec": {
   "name": "python3",
   "language": "python",
   "display_name": "Python 3 (ipykernel)"
  },
  "language_info": {
   "name": "python"
  }
 },
 "cells": [
  {
   "cell_type": "markdown",
   "metadata": {
    "id": "qHiLnNMqkD_q"
   },
   "source": [
    "# Classification Tasks - Perceptron, Logistic Regression\n",
    "\n",
    "Zadania klasyfikacji - perceptron, regresja logistyczna\n",
    "\n",
    "Proszę nie używać dostępnych w bibliotekach klasyfikatorów.\n"
   ]
  },
  {
   "cell_type": "markdown",
   "metadata": {
    "id": "QVVFcRumljah"
   },
   "source": [
    "## plot_decision_regions"
   ]
  },
  {
   "cell_type": "code",
   "metadata": {
    "id": "G9M07Y_5lP9c",
    "ExecuteTime": {
     "end_time": "2023-05-13T21:52:34.779415Z",
     "start_time": "2023-05-13T21:52:34.469281Z"
    }
   },
   "source": [
    "from matplotlib.colors import ListedColormap\n",
    "import matplotlib.pyplot as plt\n",
    "import numpy as np\n",
    "\n",
    "\n",
    "def plot_decision_regions(X, y, classifier, test_idx=None, resolution=0.02):\n",
    "    # Set up marker generator and color map\n",
    "    markers = ('s', 'x', 'o', '^', 'v')\n",
    "    colors = ('red', 'blue', 'lightgreen', 'gray', 'cyan')\n",
    "    cmap = ListedColormap(colors[:len(np.unique(y))])\n",
    "\n",
    "    # Plot the decision regions\n",
    "    x1_min, x1_max = X[:, 0].min() - 1, X[:, 0].max() + 1\n",
    "    x2_min, x2_max = X[:, 1].min() - 1, X[:, 1].max() + 1\n",
    "    xx1, xx2 = np.meshgrid(np.arange(x1_min, x1_max, resolution), np.arange(x2_min, x2_max, resolution))\n",
    "    Z = classifier.predict(np.array([xx1.ravel(), xx2.ravel()]).T)\n",
    "    Z = Z.reshape(xx1.shape)\n",
    "    plt.contourf(xx1, xx2, Z, alpha=0.3, cmap=cmap)\n",
    "    plt.xlim(xx1.min(), xx1.max())\n",
    "    plt.ylim(xx2.min(), xx2.max())\n",
    "\n",
    "    # Plot all samples\n",
    "    for idx, cl in enumerate(np.unique(y)):\n",
    "        plt.scatter(x=X[y == cl, 0], y=X[y == cl, 1], alpha=0.8, c=cmap(idx), marker=markers[idx], label=cl,\n",
    "                    edgecolor='black')"
   ],
   "execution_count": 1,
   "outputs": []
  },
  {
   "cell_type": "markdown",
   "source": [
    "## 1. Using Perceptrons, write a multi-class classifier (classifying 3 or more classes). For each class, use a binary classifier. An example of a binary classifier is provided below.\n",
    "Używając perceptronów napisz klasyfikator wielo-klasowy (klasyfikujący 3 lub więcej klas). Dla każdej z klas użyj klasyfikatora binarnego. Przykład klasyfikatora binarnego znajduje się poniżej."
   ],
   "metadata": {
    "collapsed": false
   }
  },
  {
   "cell_type": "code",
   "metadata": {
    "id": "RjZX4wn8ka9M",
    "ExecuteTime": {
     "start_time": "2023-04-12T17:58:36.601037Z",
     "end_time": "2023-04-12T17:58:36.638033Z"
    }
   },
   "source": [
    "import matplotlib.pyplot as plt\n",
    "import numpy as np\n",
    "from sklearn.model_selection import train_test_split\n",
    "from sklearn import datasets\n",
    "\n",
    "\n",
    "class Perceptron(object):\n",
    "\n",
    "    # Constructor, specify the learning rate and number of epochs\n",
    "    def __init__(self, eta=0.01, n_iter=10):\n",
    "        self.eta = eta\n",
    "        self.n_iter = n_iter\n",
    "\n",
    "    def fit(self, X, y):\n",
    "        self.w_ = np.zeros(1 + X.shape[1])  # Initialize weights to zeros\n",
    "        self.errors_ = []  # List to store the number of misclassifications in each epoch\n",
    "\n",
    "        for _ in range(self.n_iter):\n",
    "            errors = 0\n",
    "            for xi, target in zip(X, y):\n",
    "                update = self.eta * (target - self.predict(xi))  # Update weights based on the prediction error\n",
    "                self.w_[1:] += update * xi\n",
    "                self.w_[0] += update\n",
    "                errors += int(update != 0.0)  # Count the number of misclassifications\n",
    "            self.errors_.append(errors)\n",
    "        return self\n",
    "\n",
    "    def net_input(self, X):\n",
    "        return np.dot(X, self.w_[1:]) + self.w_[\n",
    "            0]  # Calculate the dot product of inputs and weights, plus the bias term\n",
    "\n",
    "    def predict(self, X):\n",
    "        return np.where(self.net_input(X) >= 0.0, 1, -1)  # Predict the class labels based on the net input"
   ],
   "execution_count": 13,
   "outputs": []
  },
  {
   "cell_type": "code",
   "execution_count": 14,
   "outputs": [],
   "source": [
    "class Classifier:\n",
    "    def __init__(self, ppn1, ppn2):\n",
    "        self.ppn1 = ppn1\n",
    "        self.ppn2 = ppn2\n",
    "\n",
    "    def predict(self, x):\n",
    "        return np.where(self.ppn1.predict(x) == 1, 0, np.where(self.ppn2.predict(x) == 1, 2, 1))"
   ],
   "metadata": {
    "collapsed": false,
    "ExecuteTime": {
     "start_time": "2023-04-12T17:58:37.590046Z",
     "end_time": "2023-04-12T17:58:37.612045Z"
    }
   }
  },
  {
   "cell_type": "code",
   "execution_count": 15,
   "outputs": [
    {
     "name": "stdout",
     "output_type": "stream",
     "text": [
      "Class labels: [0 1 2]\n",
      "y_train: [0 0 2 2 0 2 2 0 2 1 1 1 0 1 1 2 0 1 1 0 2 2 1 1 1 2 1 2 2 2 1 0 2 2 2 2 1\n",
      " 2 2 0 2 0 2 0 0 1 0 0 2 1 0 1 1 0 0 0 1 2 0 1 0 1 2 0 0 1 2 1 1 1 2 1 1 2\n",
      " 2 1 0 0 2 1 2 2 0 1 2 2 0 0 2 0 2 1 1 1 0 2 1 0 0 1 0 1 0 0 0]\n",
      "Class labels: [0 1 2]\n",
      "X_train: [[1.4 0.2]\n",
      " [1.7 0.2]\n",
      " [5.3 2.3]\n",
      " [5.7 2.1]\n",
      " [1.2 0.2]\n",
      " [5.6 2.4]\n",
      " [6.6 2.1]\n",
      " [1.2 0.2]\n",
      " [5.8 1.6]\n",
      " [4.6 1.3]\n",
      " [3.3 1. ]\n",
      " [3.9 1.4]\n",
      " [1.3 0.2]\n",
      " [4.7 1.2]\n",
      " [4.  1.3]\n",
      " [5.1 1.9]\n",
      " [1.9 0.2]\n",
      " [3.5 1. ]\n",
      " [3.9 1.2]\n",
      " [1.6 0.2]\n",
      " [4.8 1.8]\n",
      " [6.9 2.3]\n",
      " [4.5 1.5]\n",
      " [4.5 1.3]\n",
      " [3.8 1.1]\n",
      " [5.6 2.4]\n",
      " [4.7 1.4]\n",
      " [5.6 1.4]\n",
      " [5.8 2.2]\n",
      " [5.1 2.4]\n",
      " [4.1 1.3]\n",
      " [1.5 0.4]\n",
      " [6.7 2.2]\n",
      " [5.  1.9]\n",
      " [4.8 1.8]\n",
      " [5.6 2.1]\n",
      " [4.2 1.5]\n",
      " [6.7 2. ]\n",
      " [5.5 1.8]\n",
      " [1.6 0.2]\n",
      " [4.9 1.8]\n",
      " [1.4 0.2]\n",
      " [5.1 1.5]\n",
      " [1.9 0.4]\n",
      " [1.  0.2]\n",
      " [4.9 1.5]\n",
      " [1.5 0.2]\n",
      " [1.1 0.1]\n",
      " [5.5 1.8]\n",
      " [4.7 1.5]\n",
      " [1.7 0.3]\n",
      " [3.5 1. ]\n",
      " [4.1 1. ]\n",
      " [1.5 0.2]\n",
      " [1.5 0.2]\n",
      " [1.5 0.2]\n",
      " [3.7 1. ]\n",
      " [6.1 2.5]\n",
      " [1.3 0.3]\n",
      " [4.9 1.5]\n",
      " [1.3 0.2]\n",
      " [4.5 1.6]\n",
      " [6.  1.8]\n",
      " [1.6 0.2]\n",
      " [1.4 0.2]\n",
      " [4.4 1.2]\n",
      " [5.1 1.9]\n",
      " [3.6 1.3]\n",
      " [4.1 1.3]\n",
      " [4.8 1.8]\n",
      " [6.1 2.3]\n",
      " [4.5 1.5]\n",
      " [4.5 1.5]\n",
      " [5.4 2.1]\n",
      " [5.6 2.2]\n",
      " [4.6 1.4]\n",
      " [1.5 0.4]\n",
      " [1.7 0.5]\n",
      " [6.1 1.9]\n",
      " [5.1 1.6]\n",
      " [6.4 2. ]\n",
      " [5.  1.5]\n",
      " [1.5 0.2]\n",
      " [4.2 1.3]\n",
      " [5.1 2. ]\n",
      " [6.  2.5]\n",
      " [1.5 0.3]\n",
      " [1.4 0.2]\n",
      " [5.6 1.8]\n",
      " [1.4 0.3]\n",
      " [5.9 2.3]\n",
      " [3.9 1.1]\n",
      " [4.2 1.2]\n",
      " [4.3 1.3]\n",
      " [1.5 0.1]\n",
      " [5.2 2.3]\n",
      " [4.4 1.3]\n",
      " [1.3 0.2]\n",
      " [1.4 0.3]\n",
      " [5.  1.7]\n",
      " [1.3 0.3]\n",
      " [4.  1.2]\n",
      " [1.6 0.4]\n",
      " [1.5 0.2]\n",
      " [1.3 0.2]]\n"
     ]
    }
   ],
   "source": [
    "# Load the Iris dataset\n",
    "iris = datasets.load_iris()\n",
    "\n",
    "# Select the features we want to use: petal length and petal width.\n",
    "X = iris.data[:, [2, 3]]\n",
    "\n",
    "# Assign the target variable.\n",
    "y = iris.target\n",
    "\n",
    "# Split the dataset into training and testing sets.\n",
    "X_train, X_test, y_train, y_test = train_test_split(X, y, test_size=0.3, random_state=1, stratify=y)\n",
    "\n",
    "# Print the unique class labels in the training set.\n",
    "print('Class labels:', np.unique(y_train))\n",
    "\n",
    "# Print the target values in the training set.\n",
    "print('y_train:', y_train)\n",
    "\n",
    "# Print the unique class labels in the training set (again).\n",
    "print('Class labels:', np.unique(y_train))\n",
    "\n",
    "# Print the feature values in the training set.\n",
    "print('X_train:', X_train)"
   ],
   "metadata": {
    "collapsed": false,
    "ExecuteTime": {
     "start_time": "2023-04-12T21:17:26.492152Z",
     "end_time": "2023-04-12T21:17:26.516156Z"
    }
   }
  },
  {
   "cell_type": "code",
   "metadata": {
    "id": "xSJJiLimV7yb",
    "colab": {
     "base_uri": "https://localhost:8080/",
     "height": 539
    },
    "outputId": "c90e9013-84a1-477f-ed88-2c886227c172",
    "ExecuteTime": {
     "start_time": "2023-04-12T21:39:11.272405Z",
     "end_time": "2023-04-12T21:39:13.277400Z"
    }
   },
   "source": [
    "def main():\n",
    "    # Load the Iris dataset for training and testing\n",
    "    iris = datasets.load_iris()\n",
    "    X = iris.data[:, [2, 3]]\n",
    "    y = iris.target\n",
    "\n",
    "    # Split the data into training and testing sets\n",
    "    X_train, X_test, y_train, y_test = train_test_split(X, y, test_size=0.3, random_state=1, stratify=y)\n",
    "\n",
    "    # Subset the data for binary classification (classes 0 and 1)\n",
    "    y_train_00_subset = y_train.copy()\n",
    "    y_train_00_subset[(y_train == 0)] = 1\n",
    "    y_train_00_subset[(y_train == 1) | (y_train == 2)] = -1\n",
    "\n",
    "    y_train_02_subset = y_train.copy()\n",
    "    y_train_02_subset[(y_train == 2)] = 1\n",
    "    y_train_02_subset[(y_train == 0) | (y_train == 1)] = -1\n",
    "\n",
    "    # Create and train the perceptron models\n",
    "    ppn1 = Perceptron(eta=0.1, n_iter=300)\n",
    "    ppn1.fit(X_train, y_train_00_subset)\n",
    "\n",
    "    ppn2 = Perceptron(eta=0.1, n_iter=300)\n",
    "    ppn2.fit(X_train, y_train_02_subset)\n",
    "\n",
    "    # Create the classifier by combining the perceptron models\n",
    "    clf = Classifier(ppn1, ppn2)\n",
    "\n",
    "    # Plot the decision regions\n",
    "    plot_decision_regions(X=X_test, y=y_test, classifier=clf)\n",
    "    plt.xlabel(r'$x_1$')\n",
    "    plt.ylabel(r'$x_2$')\n",
    "    plt.legend(loc='upper left')\n",
    "    plt.show()\n",
    "\n",
    "\n",
    "if __name__ == '__main__':\n",
    "    main()"
   ],
   "execution_count": 16,
   "outputs": [
    {
     "name": "stderr",
     "output_type": "stream",
     "text": [
      "*c* argument looks like a single numeric RGB or RGBA sequence, which should be avoided as value-mapping will have precedence in case its length matches with *x* & *y*.  Please use the *color* keyword-argument or provide a 2D array with a single row if you intend to specify the same RGB or RGBA value for all points.\n",
      "*c* argument looks like a single numeric RGB or RGBA sequence, which should be avoided as value-mapping will have precedence in case its length matches with *x* & *y*.  Please use the *color* keyword-argument or provide a 2D array with a single row if you intend to specify the same RGB or RGBA value for all points.\n",
      "/var/folders/96/jhkcnt71777c05tl9c9k2ssc0000gn/T/ipykernel_52515/1338182360.py:25: UserWarning: You passed a edgecolor/edgecolors ('black') for an unfilled marker ('x').  Matplotlib is ignoring the edgecolor in favor of the facecolor.  This behavior may change in the future.\n",
      "  plt.scatter(x=X[y == cl, 0], y=X[y == cl, 1], alpha=0.8, c=cmap(idx), marker=markers[idx], label=cl, edgecolor='black')\n",
      "*c* argument looks like a single numeric RGB or RGBA sequence, which should be avoided as value-mapping will have precedence in case its length matches with *x* & *y*.  Please use the *color* keyword-argument or provide a 2D array with a single row if you intend to specify the same RGB or RGBA value for all points.\n"
     ]
    },
    {
     "data": {
      "text/plain": "<Figure size 432x288 with 1 Axes>",
      "image/png": "[encoded data removed]"
     },
     "metadata": {
      "needs_background": "light"
     },
     "output_type": "display_data"
    }
   ]
  },
  {
   "cell_type": "markdown",
   "metadata": {
    "id": "da76RT4AkMY4"
   },
   "source": [
    "## 2. Implement a multi-class classifier using logistic regression. Use a binary classifier for each class. An example of logistic regression for the binary case is provided below.\n",
    "Napisz klasyfikator wielo-klasowy przy użyciu regresji logistycznej. Dla każdej z klas użyj klasyfikatora binarnego. Przykład regresji logistycznej dla przypadku dwuklasowego znajduje się poniżej."
   ]
  },
  {
   "cell_type": "code",
   "metadata": {
    "id": "t1xDlUgnlCxL",
    "ExecuteTime": {
     "start_time": "2023-04-12T23:12:29.004024Z",
     "end_time": "2023-04-12T23:12:29.019021Z"
    }
   },
   "source": [
    "import numpy as np\n",
    "import matplotlib.pylab as plt\n",
    "from sklearn import datasets\n",
    "from sklearn.model_selection import train_test_split\n",
    "\n",
    "\n",
    "# - `LogisticRegressionGD`: Implements logistic regression using gradient descent.\n",
    "# - `GDClassifier`: Combines multiple logistic regression classifiers for multi-class classification.\n",
    "\n",
    "class LogisticRegressionGD(object):\n",
    "    def __init__(self, eta=0.05, n_iter=100, random_state=1):\n",
    "        self.eta = eta  # Learning rate\n",
    "        self.n_iter = n_iter  # Number of iterations\n",
    "        self.random_state = random_state  # Random seed\n",
    "\n",
    "    def fit(self, X, y):\n",
    "        rgen = np.random.RandomState(self.random_state)\n",
    "        self.w_ = rgen.normal(loc=0.0, scale=0.01, size=1 + X.shape[1])  # Initialize weights with random values\n",
    "        self.cost_ = []  # List to store the cost function values during training\n",
    "\n",
    "        for i in range(self.n_iter):\n",
    "            net_input = self.net_input(X)\n",
    "            output = self.activation(net_input)\n",
    "            errors = (y - output)\n",
    "            self.w_[1:] += self.eta * X.T.dot(errors)  # Update weights based on the gradient descent rule\n",
    "            self.w_[0] += self.eta * errors.sum()\n",
    "            cost = (-y.dot(np.log(output)) - ((1 - y).dot(np.log(1 - output))))  # Compute the cost function\n",
    "            self.cost_.append(cost)  # Store the cost function value for each iteration\n",
    "        return self\n",
    "\n",
    "    def net_input(self, X):\n",
    "        return np.dot(X, self.w_[1:]) + self.w_[0]  # Calculate the net input\n",
    "\n",
    "    def activation(self, z):\n",
    "        return 1. / (1. + np.exp(-np.clip(z, -250, 250)))  # Apply the sigmoid activation function\n",
    "\n",
    "    def predict(self, X):\n",
    "        return np.where(self.net_input(X) >= 0.0, 1, 0)  # Make predictions based on the net input\n",
    "\n",
    "    def predict_sample(self, X):\n",
    "        net_input = self.net_input(X)\n",
    "        output = self.activation(net_input)\n",
    "        return np.round(output, 3)  # Make predictions on a single sample with rounded output\n",
    "\n",
    "\n",
    "class GDClassifier:\n",
    "    def __init__(self, ppn1, ppn2, ppn3):\n",
    "        self.ppn1 = ppn1  # First logistic regression classifier\n",
    "        self.ppn2 = ppn2  # Second logistic regression classifier\n",
    "        self.ppn3 = ppn3  # Third logistic regression classifier\n",
    "\n",
    "    def predict(self, x):\n",
    "        # Combine predictions from all classifiers for multi-class classification\n",
    "        return np.where(self.ppn1.predict(x) == 1, 0,\n",
    "                        np.where(self.ppn2.predict(x) == 1, 1, np.where(self.ppn3.predict(x) == 1, 2, 1)))"
   ],
   "execution_count": 17,
   "outputs": []
  },
  {
   "cell_type": "code",
   "metadata": {
    "id": "NGTTBL4QWl0L",
    "colab": {
     "base_uri": "https://localhost:8080/",
     "height": 574
    },
    "outputId": "07f0671d-d8dd-48cd-d5bd-2a9514ed7712",
    "ExecuteTime": {
     "start_time": "2023-04-12T23:15:00.059122Z",
     "end_time": "2023-04-12T23:15:02.627119Z"
    }
   },
   "source": [
    "def main():\n",
    "    iris = datasets.load_iris()\n",
    "    X = iris.data[:, [2, 3]]\n",
    "    y = iris.target\n",
    "    X_train, X_test, y_train, y_test = train_test_split(X, y, test_size=0.3, random_state=1, stratify=y)\n",
    "\n",
    "    # Class selection\n",
    "    y_train_00_subset = y_train.copy()\n",
    "    y_train_00_subset[(y_train == 0)] = 1\n",
    "    y_train_00_subset[(y_train == 1) | (y_train == 2)] = 0\n",
    "\n",
    "    y_train_01_subset = y_train.copy()\n",
    "    y_train_01_subset[(y_train == 1)] = 1\n",
    "    y_train_01_subset[(y_train == 0) | (y_train == 2)] = 0\n",
    "\n",
    "    y_train_02_subset = y_train.copy()\n",
    "    y_train_02_subset[(y_train == 2)] = 1\n",
    "    y_train_02_subset[(y_train == 0) | (y_train == 1)] = 0\n",
    "\n",
    "    # Initialize and fit logistic regression models\n",
    "    lrgd_1 = LogisticRegressionGD(eta=0.05, n_iter=1000, random_state=1)\n",
    "    lrgd_2 = LogisticRegressionGD(eta=0.05, n_iter=1000, random_state=1)\n",
    "    lrgd_3 = LogisticRegressionGD(eta=0.05, n_iter=1000, random_state=1)\n",
    "\n",
    "    lrgd_1.fit(X_train, y_train_00_subset)\n",
    "    lrgd_2.fit(X_train, y_train_01_subset)\n",
    "    lrgd_3.fit(X_train, y_train_02_subset)\n",
    "\n",
    "    # Make predictions on the testing set\n",
    "    predict_lrgd_1 = lrgd_1.predict_sample(X_test)\n",
    "    predict_lrgd_2 = lrgd_2.predict_sample(X_test)\n",
    "    predict_lrgd_3 = lrgd_3.predict_sample(X_test)\n",
    "\n",
    "    # Print the probabilities of each sample belonging to each class\n",
    "    print(\"Probability of sample belonging to class 0: \", predict_lrgd_1)\n",
    "    print(\"Probability of sample belonging to class 1: \", predict_lrgd_2)\n",
    "    print(\"Probability of sample belonging to class 2: \", predict_lrgd_3)\n",
    "\n",
    "    # Combine the logistic regression models using GDClassifier\n",
    "    clf = GDClassifier(lrgd_1, lrgd_2, lrgd_3)\n",
    "\n",
    "    # Plot the decision regions and the test set\n",
    "    plot_decision_regions(X=X_test, y=y_test, classifier=clf)\n",
    "    plt.xlabel(r'$x_1$')\n",
    "    plt.ylabel(r'$x_2$')\n",
    "    plt.legend(loc='upper left')\n",
    "    plt.show()\n",
    "\n",
    "\n",
    "if __name__ == '__main__':\n",
    "    main()"
   ],
   "execution_count": 19,
   "outputs": [
    {
     "name": "stderr",
     "output_type": "stream",
     "text": [
      "/var/folders/96/jhkcnt71777c05tl9c9k2ssc0000gn/T/ipykernel_52515/55279722.py:24: RuntimeWarning: divide by zero encountered in log\n",
      "  cost = (-y.dot(np.log(output)) - ((1 - y).dot(np.log(1 - output))))\n",
      "*c* argument looks like a single numeric RGB or RGBA sequence, which should be avoided as value-mapping will have precedence in case its length matches with *x* & *y*.  Please use the *color* keyword-argument or provide a 2D array with a single row if you intend to specify the same RGB or RGBA value for all points.\n",
      "*c* argument looks like a single numeric RGB or RGBA sequence, which should be avoided as value-mapping will have precedence in case its length matches with *x* & *y*.  Please use the *color* keyword-argument or provide a 2D array with a single row if you intend to specify the same RGB or RGBA value for all points.\n",
      "/var/folders/96/jhkcnt71777c05tl9c9k2ssc0000gn/T/ipykernel_52515/1338182360.py:25: UserWarning: You passed a edgecolor/edgecolors ('black') for an unfilled marker ('x').  Matplotlib is ignoring the edgecolor in favor of the facecolor.  This behavior may change in the future.\n",
      "  plt.scatter(x=X[y == cl, 0], y=X[y == cl, 1], alpha=0.8, c=cmap(idx), marker=markers[idx], label=cl, edgecolor='black')\n",
      "*c* argument looks like a single numeric RGB or RGBA sequence, which should be avoided as value-mapping will have precedence in case its length matches with *x* & *y*.  Please use the *color* keyword-argument or provide a 2D array with a single row if you intend to specify the same RGB or RGBA value for all points.\n"
     ]
    },
    {
     "name": "stdout",
     "output_type": "stream",
     "text": [
      "Prawdopodobieństwo przynależności próbki do klasy 0:  [0.    0.992 0.998 0.    0.    0.    0.    0.    0.    0.998 0.996 0.\n",
      " 0.999 0.016 0.999 0.    0.    0.    0.    0.    0.    0.999 0.    0.\n",
      " 0.    0.    0.027 0.    0.983 0.    0.998 0.999 0.001 0.    0.    0.\n",
      " 0.999 0.998 0.999 0.    0.    0.    0.    0.999 0.999]\n",
      "Prawdopodobieństwo przynależności próbki do klasy 1:  [0.    0.    0.    0.    0.    0.    0.001 0.    0.    0.    0.    0.\n",
      " 0.    0.    0.    0.002 0.    0.    0.    0.    0.    0.003 0.    0.\n",
      " 0.    0.    0.    0.    0.    0.    0.002 0.    0.045 0.    0.299 0.\n",
      " 0.003 0.002 0.    0.001 0.    0.    0.    0.    0.011]\n",
      "Prawdopodobieństwo przynależności próbki do klasy 2:  [1.    0.    0.    0.089 0.    0.    1.    0.002 1.    0.    0.    0.943\n",
      " 0.    0.    0.    0.003 1.    0.002 0.    1.    1.    0.    0.    0.999\n",
      " 0.    0.063 0.    1.    0.    0.999 0.    0.    0.    0.    1.    1.\n",
      " 0.    0.    0.    0.001 1.    0.988 0.004 0.    0.   ]\n"
     ]
    },
    {
     "data": {
      "text/plain": "<Figure size 432x288 with 1 Axes>",
      "image/png": "[encoded data removed]"
     },
     "metadata": {
      "needs_background": "light"
     },
     "output_type": "display_data"
    }
   ]
  }
 ]
}
