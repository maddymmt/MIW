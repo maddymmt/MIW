{
 "cells": [
  {
   "cell_type": "markdown",
   "metadata": {
    "id": "ZJjlBaBPGG5h"
   },
   "source": [
    "# For the 'CIFAR10 small image classification' data from the Keras library, propose and implement a division of this data into training and test sets.\n",
    "Dla danych “CIFAR10 small image classification” z biblioteki Keras zaproponuj i zrealizuj podział tych danych na dane treningowe i dane testowe,\n",
    "\n",
    "https://www.cs.toronto.edu/~kriz/cifar.html"
   ]
  },
  {
   "cell_type": "code",
   "execution_count": 1,
   "metadata": {
    "colab": {
     "base_uri": "https://localhost:8080/",
     "height": 1000
    },
    "executionInfo": {
     "elapsed": 26595,
     "status": "ok",
     "timestamp": 1682617406521,
     "user": {
      "displayName": "Maciej Maciejewski",
      "userId": "12229306771599738851"
     },
     "user_tz": -120
    },
    "id": "JCAsRXBrGZkW",
    "outputId": "121f878c-bec9-460b-e84f-a9a3812587ed",
    "ExecuteTime": {
     "end_time": "2023-05-14T18:49:27.973732Z",
     "start_time": "2023-05-14T18:49:25.010552Z"
    }
   },
   "outputs": [
    {
     "name": "stdout",
     "output_type": "stream",
     "text": [
      "Number of rows in y_train: 50000\n",
      "Dimensions of the training set:  (10000, 32, 32, 3)\n",
      "Dimensions of the test set:  (2000, 32, 32, 3)\n"
     ]
    },
    {
     "data": {
      "text/plain": "(32, 32, 3)"
     },
     "execution_count": 1,
     "metadata": {},
     "output_type": "execute_result"
    }
   ],
   "source": [
    "from matplotlib import pyplot as plt\n",
    "from keras.datasets import cifar10\n",
    "from keras.utils import to_categorical\n",
    "import numpy as np\n",
    "\n",
    "# Load CIFAR10 data\n",
    "(X_train, y_train), (X_test, y_test) = cifar10.load_data()\n",
    "\n",
    "# Selected classes (e.g. class 0 and 1)\n",
    "num_rows = y_train.shape[0]\n",
    "print(\"Number of rows in y_train:\", num_rows) # It has a shape of (50000, 1), where 50000 is the number of samples, and 1 is the number of columns, in this case it's a one-dimensional array.\n",
    "classes = [0, 1]\n",
    "\n",
    "# Retain only selected classes\n",
    "# y_train is an array containing labels for the training images. It has a shape of (50000, 1), which means we have 50,000 labels for the training images.\n",
    "train_mask = np.isin(y_train[:, 0], classes) # all rows (':') for the first dimension (rows) and only the element with index 0 for the second dimension (columns)\n",
    "test_mask = np.isin(y_test[:, 0], classes) # first we get the labels\n",
    "X_train, y_train = X_train[train_mask], y_train[train_mask][:, 0] # then for those labels we select only the element with index 0 ([:, 0]).\n",
    "X_test, y_test = X_test[test_mask], y_test[test_mask][:, 0]\n",
    "\n",
    "# Normalize data\n",
    "X_train = X_train.astype('float32') / 255.0\n",
    "X_test = X_test.astype('float32') / 255.0\n",
    "\n",
    "# Convert labels to categorical values\n",
    "num_classes = len(classes)\n",
    "y_train_full = to_categorical(y_train, num_classes)\n",
    "y_test = to_categorical(y_test, num_classes)\n",
    "\n",
    "# Print dimensions of each set\n",
    "print(\"Dimensions of the training set: \", X_train.shape)\n",
    "print(\"Dimensions of the test set: \", X_test.shape)\n",
    "\n",
    "# Image dimensions - 32 pixels in height, 32 pixels in width, and 3 channels (R, G, B)\n",
    "X_train.shape[1:]"
   ]
  },
  {
   "cell_type": "markdown",
   "metadata": {
    "id": "u2uRR6tyGLyR"
   },
   "source": [
    "# Based on a convolutional neural network, as per the instructor's indications, propose a classifier that classifies two out of ten classes\n",
    "W oparciu o sieć konwolucyjną, zgodnie z wskazaniami prowadzącego, zaproponuj klasyfikator, klasyfikujący dwie z dziesięciu klas"
   ]
  },
  {
   "cell_type": "code",
   "execution_count": 2,
   "metadata": {
    "colab": {
     "background_save": true,
     "base_uri": "https://localhost:8080/"
    },
    "executionInfo": {
     "elapsed": 441452,
     "status": "ok",
     "timestamp": 1682618272670,
     "user": {
      "displayName": "Maciej Maciejewski",
      "userId": "12229306771599738851"
     },
     "user_tz": -120
    },
    "id": "jMXZHTkqGZ-B",
    "ExecuteTime": {
     "end_time": "2023-05-14T18:53:01.167258Z",
     "start_time": "2023-05-14T18:52:46.551479Z"
    }
   },
   "outputs": [
    {
     "name": "stdout",
     "output_type": "stream",
     "text": [
      "Metal device set to: Apple M2\n"
     ]
    },
    {
     "name": "stderr",
     "output_type": "stream",
     "text": [
      "2023-05-14 20:52:46.558058: I tensorflow/core/common_runtime/pluggable_device/pluggable_device_factory.cc:305] Could not identify NUMA node of platform GPU ID 0, defaulting to 0. Your kernel may not have been built with NUMA support.\n",
      "2023-05-14 20:52:46.558706: I tensorflow/core/common_runtime/pluggable_device/pluggable_device_factory.cc:271] Created TensorFlow device (/job:localhost/replica:0/task:0/device:GPU:0 with 0 MB memory) -> physical PluggableDevice (device: 0, name: METAL, pci bus id: <undefined>)\n"
     ]
    },
    {
     "name": "stdout",
     "output_type": "stream",
     "text": [
      "Epoch 1/10\n"
     ]
    },
    {
     "name": "stderr",
     "output_type": "stream",
     "text": [
      "2023-05-14 20:52:46.852255: W tensorflow/core/platform/profile_utils/cpu_utils.cc:128] Failed to get CPU frequency: 0 Hz\n",
      "2023-05-14 20:52:47.049033: I tensorflow/core/grappler/optimizers/custom_graph_optimizer_registry.cc:113] Plugin optimizer for device_type GPU is enabled.\n"
     ]
    },
    {
     "name": "stdout",
     "output_type": "stream",
     "text": [
      "124/125 [============================>.] - ETA: 0s - loss: 0.4717 - accuracy: 0.7651"
     ]
    },
    {
     "name": "stderr",
     "output_type": "stream",
     "text": [
      "2023-05-14 20:52:48.640488: I tensorflow/core/grappler/optimizers/custom_graph_optimizer_registry.cc:113] Plugin optimizer for device_type GPU is enabled.\n"
     ]
    },
    {
     "name": "stdout",
     "output_type": "stream",
     "text": [
      "125/125 [==============================] - 2s 13ms/step - loss: 0.4704 - accuracy: 0.7659 - val_loss: 0.3391 - val_accuracy: 0.8570\n",
      "Epoch 2/10\n",
      "125/125 [==============================] - 1s 10ms/step - loss: 0.3117 - accuracy: 0.8678 - val_loss: 0.2776 - val_accuracy: 0.8850\n",
      "Epoch 3/10\n",
      "125/125 [==============================] - 1s 11ms/step - loss: 0.2442 - accuracy: 0.9020 - val_loss: 0.2262 - val_accuracy: 0.9100\n",
      "Epoch 4/10\n",
      "125/125 [==============================] - 1s 11ms/step - loss: 0.2036 - accuracy: 0.9211 - val_loss: 0.1870 - val_accuracy: 0.9230\n",
      "Epoch 5/10\n",
      "125/125 [==============================] - 1s 10ms/step - loss: 0.1720 - accuracy: 0.9309 - val_loss: 0.1652 - val_accuracy: 0.9360\n",
      "Epoch 6/10\n",
      "125/125 [==============================] - 1s 11ms/step - loss: 0.1522 - accuracy: 0.9384 - val_loss: 0.1571 - val_accuracy: 0.9350\n",
      "Epoch 7/10\n",
      "125/125 [==============================] - 1s 11ms/step - loss: 0.1385 - accuracy: 0.9479 - val_loss: 0.1735 - val_accuracy: 0.9340\n",
      "Epoch 8/10\n",
      "125/125 [==============================] - 1s 11ms/step - loss: 0.1246 - accuracy: 0.9514 - val_loss: 0.1548 - val_accuracy: 0.9375\n",
      "Epoch 9/10\n",
      "125/125 [==============================] - 1s 10ms/step - loss: 0.1110 - accuracy: 0.9588 - val_loss: 0.1463 - val_accuracy: 0.9435\n",
      "Epoch 10/10\n",
      "125/125 [==============================] - 1s 10ms/step - loss: 0.1088 - accuracy: 0.9560 - val_loss: 0.1433 - val_accuracy: 0.9405\n",
      "63/63 [==============================] - 0s 5ms/step - loss: 0.1475 - accuracy: 0.9475\n",
      "Test loss: 0.1475265473127365\n",
      "Test accuracy: 0.9475000500679016\n"
     ]
    }
   ],
   "source": [
    "from keras.models import Sequential\n",
    "from keras.layers import Conv2D\n",
    "from keras.layers import MaxPooling2D\n",
    "from keras.layers import Dense\n",
    "from keras.layers import Flatten\n",
    "\n",
    "# Creating the model of the convolutional neural network\n",
    "model = Sequential()\n",
    "# Adding the first convolutional layer with 32 filters, using 3x3 kernels, 'relu' activation function and 'same' padding\n",
    "model.add(Conv2D(32, (3, 3), activation='relu', padding='same', input_shape=X_train.shape[1:])) # X_train.shape[1:] are the dimensions of the images (32, 32, 3) height width RGB\n",
    "# Adding the first max pooling layer with 2x2 pool size\n",
    "model.add(MaxPooling2D((2, 2)))\n",
    "# Adding the second convolutional layer with 64 filters\n",
    "model.add(Conv2D(64, (3, 3), activation='relu', padding='same')) # 64 indicates the filters\n",
    "# Adding the second max pooling layer with 2x2 pool size\n",
    "model.add(MaxPooling2D((2, 2)))\n",
    "# Flattening the tensor output from the previous layer to fit the upcoming Dense layer\n",
    "model.add(Flatten())\n",
    "# Adding a dense layer with 64 units and 'relu' activation function\n",
    "model.add(Dense(64, activation='relu'))\n",
    "# Adding a dense layer with 2 units (for 2 classes) and 'sigmoid' activation function\n",
    "model.add(Dense(2, activation='sigmoid'))  # changing the number of output units and activation function\n",
    "\n",
    "# Compiling the model\n",
    "model.compile(optimizer='adam', loss='binary_crossentropy', metrics=['accuracy'])  # changing the loss function\n",
    "\n",
    "# Training the model\n",
    "history = model.fit(X_train, y_train_full, epochs=10, batch_size=64, validation_split=0.2)\n",
    "\n",
    "# Evaluating the model on the test data\n",
    "loss, acc = model.evaluate(X_test, y_test)\n",
    "print(\"Test loss:\", loss)\n",
    "print(\"Test accuracy:\", acc)"
   ]
  },
  {
   "cell_type": "code",
   "execution_count": 3,
   "metadata": {
    "colab": {
     "background_save": true
    },
    "id": "S1OpIjCNLVmV",
    "ExecuteTime": {
     "end_time": "2023-05-14T18:53:46.409475Z",
     "start_time": "2023-05-14T18:53:46.275782Z"
    }
   },
   "outputs": [
    {
     "data": {
      "text/plain": "<Figure size 432x288 with 1 Axes>",
      "image/png": "[encoded data removed]"
     },
     "metadata": {
      "needs_background": "light"
     },
     "output_type": "display_data"
    },
    {
     "data": {
      "text/plain": "<Figure size 432x288 with 1 Axes>",
      "image/png": "[encoded data removed]"
     },
     "metadata": {
      "needs_background": "light"
     },
     "output_type": "display_data"
    }
   ],
   "source": [
    "# Plot the training and validation loss per epoch\n",
    "plt.plot(history.history['loss'])\n",
    "plt.plot(history.history['val_loss'])\n",
    "plt.ylabel('loss')\n",
    "plt.xlabel('epoch')\n",
    "plt.legend(['train', 'test'], loc='upper left')\n",
    "plt.show()\n",
    "\n",
    "# Plot the training and validation accuracy per epoch\n",
    "plt.plot(history.history['accuracy'])\n",
    "plt.plot(history.history['val_accuracy'])\n",
    "plt.ylabel('accuracy')\n",
    "plt.xlabel('epoch')\n",
    "plt.legend(['train', 'test'], loc='upper left')\n",
    "plt.show()"
   ]
  },
  {
   "cell_type": "markdown",
   "metadata": {
    "id": "d40W0omYGPXq"
   },
   "source": [
    "# Propose a classifier with one, two, and three convolutional layers.\n",
    "Zaproponuj klasyfikator z jedną, dwiema oraz trzema warstwami konwolucyjnymi,"
   ]
  },
  {
   "cell_type": "code",
   "execution_count": 9,
   "metadata": {
    "id": "680Lr761GaRy"
   },
   "outputs": [
    {
     "name": "stdout",
     "output_type": "stream",
     "text": [
      "Epoch 1/10\n",
      "  5/125 [>.............................] - ETA: 1s - loss: 0.9045 - accuracy: 0.5281 "
     ]
    },
    {
     "name": "stderr",
     "output_type": "stream",
     "text": [
      "2023-04-30 19:18:37.443646: I tensorflow/core/grappler/optimizers/custom_graph_optimizer_registry.cc:113] Plugin optimizer for device_type GPU is enabled.\n"
     ]
    },
    {
     "name": "stdout",
     "output_type": "stream",
     "text": [
      "125/125 [==============================] - ETA: 0s - loss: 0.4702 - accuracy: 0.7843"
     ]
    },
    {
     "name": "stderr",
     "output_type": "stream",
     "text": [
      "2023-04-30 19:18:38.826293: I tensorflow/core/grappler/optimizers/custom_graph_optimizer_registry.cc:113] Plugin optimizer for device_type GPU is enabled.\n"
     ]
    },
    {
     "name": "stdout",
     "output_type": "stream",
     "text": [
      "125/125 [==============================] - 2s 12ms/step - loss: 0.4702 - accuracy: 0.7843 - val_loss: 0.3287 - val_accuracy: 0.8695\n",
      "Epoch 2/10\n",
      "125/125 [==============================] - 1s 11ms/step - loss: 0.3188 - accuracy: 0.8641 - val_loss: 0.2789 - val_accuracy: 0.8895\n",
      "Epoch 3/10\n",
      "125/125 [==============================] - 1s 11ms/step - loss: 0.2651 - accuracy: 0.8884 - val_loss: 0.2566 - val_accuracy: 0.8940\n",
      "Epoch 4/10\n",
      "125/125 [==============================] - 1s 11ms/step - loss: 0.2324 - accuracy: 0.9053 - val_loss: 0.2189 - val_accuracy: 0.9120\n",
      "Epoch 5/10\n",
      "125/125 [==============================] - 1s 10ms/step - loss: 0.2062 - accuracy: 0.9168 - val_loss: 0.2174 - val_accuracy: 0.9120\n",
      "Epoch 6/10\n",
      "125/125 [==============================] - 1s 11ms/step - loss: 0.1805 - accuracy: 0.9296 - val_loss: 0.1925 - val_accuracy: 0.9235\n",
      "Epoch 7/10\n",
      "125/125 [==============================] - 1s 11ms/step - loss: 0.1635 - accuracy: 0.9334 - val_loss: 0.1840 - val_accuracy: 0.9235\n",
      "Epoch 8/10\n",
      "125/125 [==============================] - 1s 11ms/step - loss: 0.1582 - accuracy: 0.9381 - val_loss: 0.1882 - val_accuracy: 0.9230\n",
      "Epoch 9/10\n",
      "125/125 [==============================] - 1s 11ms/step - loss: 0.1422 - accuracy: 0.9451 - val_loss: 0.1808 - val_accuracy: 0.9290\n",
      "Epoch 10/10\n",
      "125/125 [==============================] - 1s 11ms/step - loss: 0.1286 - accuracy: 0.9515 - val_loss: 0.1689 - val_accuracy: 0.9325\n",
      "63/63 - 0s - loss: 0.1608 - accuracy: 0.9310 - 327ms/epoch - 5ms/step\n",
      "Model 1 - Test accuracy:  0.9310000538825989\n",
      "Model 1 - Test loss:  0.16081534326076508\n",
      "Epoch 1/10\n",
      "  5/125 [>.............................] - ETA: 1s - loss: 0.7379 - accuracy: 0.5000 "
     ]
    },
    {
     "name": "stderr",
     "output_type": "stream",
     "text": [
      "2023-04-30 19:18:51.856120: I tensorflow/core/grappler/optimizers/custom_graph_optimizer_registry.cc:113] Plugin optimizer for device_type GPU is enabled.\n"
     ]
    },
    {
     "name": "stdout",
     "output_type": "stream",
     "text": [
      "123/125 [============================>.] - ETA: 0s - loss: 0.4397 - accuracy: 0.7895"
     ]
    },
    {
     "name": "stderr",
     "output_type": "stream",
     "text": [
      "2023-04-30 19:18:53.535367: I tensorflow/core/grappler/optimizers/custom_graph_optimizer_registry.cc:113] Plugin optimizer for device_type GPU is enabled.\n"
     ]
    },
    {
     "name": "stdout",
     "output_type": "stream",
     "text": [
      "125/125 [==============================] - 2s 15ms/step - loss: 0.4375 - accuracy: 0.7908 - val_loss: 0.2915 - val_accuracy: 0.8720\n",
      "Epoch 2/10\n",
      "125/125 [==============================] - 2s 13ms/step - loss: 0.2610 - accuracy: 0.8933 - val_loss: 0.2177 - val_accuracy: 0.9130\n",
      "Epoch 3/10\n",
      "125/125 [==============================] - 2s 14ms/step - loss: 0.2048 - accuracy: 0.9193 - val_loss: 0.1885 - val_accuracy: 0.9250\n",
      "Epoch 4/10\n",
      "125/125 [==============================] - 2s 14ms/step - loss: 0.1688 - accuracy: 0.9338 - val_loss: 0.1873 - val_accuracy: 0.9260\n",
      "Epoch 5/10\n",
      "125/125 [==============================] - 2s 14ms/step - loss: 0.1451 - accuracy: 0.9474 - val_loss: 0.1582 - val_accuracy: 0.9345\n",
      "Epoch 6/10\n",
      "125/125 [==============================] - 2s 13ms/step - loss: 0.1274 - accuracy: 0.9495 - val_loss: 0.1499 - val_accuracy: 0.9440\n",
      "Epoch 7/10\n",
      "125/125 [==============================] - 2s 13ms/step - loss: 0.1136 - accuracy: 0.9565 - val_loss: 0.1544 - val_accuracy: 0.9380\n",
      "Epoch 8/10\n",
      "125/125 [==============================] - 2s 13ms/step - loss: 0.0934 - accuracy: 0.9669 - val_loss: 0.1508 - val_accuracy: 0.9375\n",
      "Epoch 9/10\n",
      "125/125 [==============================] - 2s 13ms/step - loss: 0.0802 - accuracy: 0.9710 - val_loss: 0.1347 - val_accuracy: 0.9455\n",
      "Epoch 10/10\n",
      "125/125 [==============================] - 2s 13ms/step - loss: 0.0728 - accuracy: 0.9750 - val_loss: 0.1393 - val_accuracy: 0.9430\n",
      "63/63 - 0s - loss: 0.1481 - accuracy: 0.9485 - 344ms/epoch - 5ms/step\n",
      "Model 2 - Test accuracy:  0.9485000371932983\n",
      "Model 2 - Test loss:  0.1480807662010193\n",
      "Epoch 1/10\n",
      "  1/125 [..............................] - ETA: 43s - loss: 0.6947 - accuracy: 0.5312"
     ]
    },
    {
     "name": "stderr",
     "output_type": "stream",
     "text": [
      "2023-04-30 19:19:09.473126: I tensorflow/core/grappler/optimizers/custom_graph_optimizer_registry.cc:113] Plugin optimizer for device_type GPU is enabled.\n"
     ]
    },
    {
     "name": "stdout",
     "output_type": "stream",
     "text": [
      "123/125 [============================>.] - ETA: 0s - loss: 0.4191 - accuracy: 0.7992"
     ]
    },
    {
     "name": "stderr",
     "output_type": "stream",
     "text": [
      "2023-04-30 19:19:11.504294: I tensorflow/core/grappler/optimizers/custom_graph_optimizer_registry.cc:113] Plugin optimizer for device_type GPU is enabled.\n"
     ]
    },
    {
     "name": "stdout",
     "output_type": "stream",
     "text": [
      "125/125 [==============================] - 2s 17ms/step - loss: 0.4172 - accuracy: 0.8003 - val_loss: 0.2901 - val_accuracy: 0.8815\n",
      "Epoch 2/10\n",
      "125/125 [==============================] - 2s 16ms/step - loss: 0.2320 - accuracy: 0.9054 - val_loss: 0.1859 - val_accuracy: 0.9280\n",
      "Epoch 3/10\n",
      "125/125 [==============================] - 2s 16ms/step - loss: 0.1685 - accuracy: 0.9326 - val_loss: 0.1526 - val_accuracy: 0.9370\n",
      "Epoch 4/10\n",
      "125/125 [==============================] - 2s 16ms/step - loss: 0.1391 - accuracy: 0.9465 - val_loss: 0.1696 - val_accuracy: 0.9280\n",
      "Epoch 5/10\n",
      "125/125 [==============================] - 2s 16ms/step - loss: 0.1122 - accuracy: 0.9581 - val_loss: 0.1274 - val_accuracy: 0.9495\n",
      "Epoch 6/10\n",
      "125/125 [==============================] - 2s 15ms/step - loss: 0.0840 - accuracy: 0.9664 - val_loss: 0.1494 - val_accuracy: 0.9480\n",
      "Epoch 7/10\n",
      "125/125 [==============================] - 2s 16ms/step - loss: 0.0692 - accuracy: 0.9718 - val_loss: 0.1202 - val_accuracy: 0.9590\n",
      "Epoch 8/10\n",
      "125/125 [==============================] - 2s 16ms/step - loss: 0.0497 - accuracy: 0.9824 - val_loss: 0.1295 - val_accuracy: 0.9545\n",
      "Epoch 9/10\n",
      "125/125 [==============================] - 2s 17ms/step - loss: 0.0378 - accuracy: 0.9864 - val_loss: 0.1455 - val_accuracy: 0.9510\n",
      "Epoch 10/10\n",
      "125/125 [==============================] - 2s 15ms/step - loss: 0.0289 - accuracy: 0.9904 - val_loss: 0.1608 - val_accuracy: 0.9530\n",
      "63/63 - 0s - loss: 0.1751 - accuracy: 0.9530 - 376ms/epoch - 6ms/step\n",
      "Model 3 - Test accuracy:  0.9530000686645508\n",
      "Model 3 - Test loss:  0.17512910068035126\n"
     ]
    }
   ],
   "source": [
    "model_1 = Sequential()\n",
    "model_1.add(Conv2D(32, (3, 3), activation='relu', padding='same', input_shape=X_train.shape[1:]))\n",
    "model_1.add(MaxPooling2D((2, 2)))\n",
    "model_1.add(Flatten())\n",
    "model_1.add(Dense(64, activation='relu'))\n",
    "model_1.add(Dense(num_classes, activation='softmax'))\n",
    "\n",
    "model_1.compile(optimizer='adam', loss='categorical_crossentropy', metrics=['accuracy'])\n",
    "\n",
    "history_1 = model_1.fit(X_train, y_train_full, epochs=10, batch_size=64, validation_split=0.2)\n",
    "\n",
    "test_loss_1, test_acc_1 = model_1.evaluate(X_test, y_test, verbose=2)\n",
    "print(\"Model 1 - Test accuracy: \", test_acc_1)\n",
    "print(\"Model 1 - Test loss: \", test_loss_1)\n",
    "\n",
    "\n",
    "model_2 = Sequential()\n",
    "model_2.add(Conv2D(32, (3, 3), activation='relu', padding='same', input_shape=X_train.shape[1:]))\n",
    "model_2.add(MaxPooling2D((2, 2)))\n",
    "model_2.add(Conv2D(64, (3, 3), activation='relu', padding='same'))\n",
    "model_2.add(MaxPooling2D((2, 2)))\n",
    "model_2.add(Flatten())\n",
    "model_2.add(Dense(64, activation='relu'))\n",
    "model_2.add(Dense(num_classes, activation='softmax'))\n",
    "\n",
    "model_2.compile(optimizer='adam', loss='categorical_crossentropy', metrics=['accuracy'])\n",
    "\n",
    "history_2 = model_2.fit(X_train, y_train_full, epochs=10, batch_size=64, validation_split=0.2)\n",
    "\n",
    "test_loss_2, test_acc_2 = model_2.evaluate(X_test, y_test, verbose=2)\n",
    "print(\"Model 2 - Test accuracy: \", test_acc_2)\n",
    "print(\"Model 2 - Test loss: \", test_loss_2)\n",
    "\n",
    "\n",
    "model_3 = Sequential()\n",
    "model_3.add(Conv2D(32, (3, 3), activation='relu', padding='same', input_shape=X_train.shape[1:]))\n",
    "model_3.add(MaxPooling2D((2, 2)))\n",
    "model_3.add(Conv2D(64, (3, 3), activation='relu', padding='same'))\n",
    "model_3.add(MaxPooling2D((2, 2)))\n",
    "model_3.add(Conv2D(128, (3, 3), activation='relu', padding='same'))\n",
    "model_3.add(MaxPooling2D((2, 2)))\n",
    "model_3.add(Flatten())\n",
    "model_3.add(Dense(64, activation='relu'))\n",
    "model_3.add(Dense(num_classes, activation='softmax'))\n",
    "\n",
    "model_3.compile(optimizer='adam', loss='categorical_crossentropy', metrics=['accuracy'])\n",
    "\n",
    "history_3 = model_3.fit(X_train, y_train_full, epochs=10, batch_size=64, validation_split=0.2)\n",
    "\n",
    "test_loss_3, test_acc_3 = model_3.evaluate(X_test, y_test, verbose=2)\n",
    "print(\"Model 3 - Test accuracy: \", test_acc_3)\n",
    "print(\"Model 3 - Test loss: \", test_loss_3)"
   ]
  },
  {
   "cell_type": "markdown",
   "metadata": {
    "id": "2uKYLCUoGR1L"
   },
   "source": [
    "# Compare the results\n",
    "Porównaj wyniki z poprzedniego punktu"
   ]
  },
  {
   "cell_type": "code",
   "execution_count": 11,
   "metadata": {
    "id": "4B8t7ePeF6aO"
   },
   "outputs": [
    {
     "data": {
      "text/plain": "<Figure size 432x288 with 1 Axes>",
      "image/png": "[encoded data removed]"
     },
     "metadata": {
      "needs_background": "light"
     },
     "output_type": "display_data"
    },
    {
     "data": {
      "text/plain": "<Figure size 432x288 with 1 Axes>",
      "image/png": "[encoded data removed]"
     },
     "metadata": {
      "needs_background": "light"
     },
     "output_type": "display_data"
    }
   ],
   "source": [
    "# Creating a plot for the learning curves\n",
    "plt.plot(history_1.history['loss'])\n",
    "plt.plot(history_2.history['loss'])\n",
    "plt.plot(history_3.history['loss'])\n",
    "plt.title('Learning curves')\n",
    "plt.ylabel('Loss')\n",
    "plt.xlabel('Epoch')\n",
    "plt.legend(['Model 1', 'Model 2', 'Model 3'], loc='upper left')\n",
    "plt.show()\n",
    "\n",
    "# Creating a plot for the validation curves\n",
    "plt.plot(history_1.history['val_loss'])\n",
    "plt.plot(history_2.history['val_loss'])\n",
    "plt.plot(history_3.history['val_loss'])\n",
    "plt.title('Validation curves')\n",
    "plt.ylabel('Loss')\n",
    "plt.xlabel('Epoch')\n",
    "plt.legend(['Model 1', 'Model 2', 'Model 3'], loc='upper left')\n",
    "plt.show()"
   ]
  }
 ],
 "metadata": {
  "accelerator": "GPU",
  "colab": {
   "authorship_tag": "ABX9TyMRSsE5WgulSz5y7xbUJn41",
   "name": "",
   "version": ""
  },
  "gpuClass": "standard",
  "kernelspec": {
   "name": "python3",
   "language": "python",
   "display_name": "Python 3 (ipykernel)"
  },
  "language_info": {
   "name": "python"
  }
 },
 "nbformat": 4,
 "nbformat_minor": 0
}
